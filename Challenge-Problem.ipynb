{
 "cells": [
  {
   "cell_type": "markdown",
   "metadata": {},
   "source": [
    "# CHALLENGE PROBLEM - RECOMMENDER SYSTEM"
   ]
  },
  {
   "cell_type": "markdown",
   "metadata": {},
   "source": [
    "Author- Pranav Sivadas Menon\n",
    "\n",
    "In this challenge problem I will be building a recommender system by using collaborative filtering to make recommendations on the MovieLens Dataset.\n",
    "\n",
    "A recommender system is a technology that is deployed in the environment where items (products, movies, events, articles) are to be recommended to users (customers, visitors, app users, readers) or the opposite.\n",
    "\n",
    "There are three types of collaborative filtering algorithms\n",
    "\n",
    "User-user approaches: Estimate user's rating of an item by finding “similar” users and then looking at their predictions for this item.\n",
    "\n",
    "Item-item approaches: Estimate a user’s rating of a item by finding similar items and then looking at the user’s rating of these similar items.\n",
    "\n",
    "Matrix factorization: Construct a low-rank matrix that approximates the observed entries of the rating matrix."
   ]
  },
  {
   "cell_type": "markdown",
   "metadata": {},
   "source": [
    "## Collaborative Filtering by Matrix Factorization"
   ]
  },
  {
   "attachments": {
    "image.png": {
     "image/png": "[encoded data removed]"
    }
   },
   "cell_type": "markdown",
   "metadata": {},
   "source": [
    "In collaborative filtering we factorize our ratings matrix into a two feature matrices whose product is equal to the original ratings matrix. Initially, we have some partially filled ratings matrix $X\\in \\mathbb{R}^{m\\times n}$, our objective is to find the feature matrices  $U \\in \\mathbb{R}^{m\\times k}$ and $V \\in \\mathbb{R}^{n\\times k}$ such that $UV^T = X$. Each row of $V$ is features corresponding to a movie, hence $u_i^Tv_j$ is the predicted rating of user $i$ on movie $j$. The aforementioned statement represents the hypothesis function for collaborative filtering:\n",
    "\n",
    "\n",
    "$X$ is only partially filled and sparse, 0 is used to indicate the non-presence of a particular rating.Let $S$ be the set of $(i,j)$ such that $X_{i,j} \\neq 0$, so $S$ represents the set of all pairs for which we have a rating. \n",
    "\n",
    "The loss function used for collaborative filtering is the squared loss:\n",
    "\n",
    "$$\\ell(h_\\theta(i,j),X_{i,j}) = (h_\\theta(i,j) - X_{i,j})^2$$\n",
    "\n",
    "Also impose an $l_2$ regularization on the parameters, total loss function is:\n",
    "\n",
    "$$\\sum_{i,j\\in S}\\ell(h_\\theta(i,j),X_{i,j}) + \\lambda_u ||U||_2^2 + \\lambda_v ||V||_2^2$$\n",
    "\n",
    "For this problem I'm assuming ![image.png](attachment:image.png)\n",
    "\n"
   ]
  },
  {
   "cell_type": "markdown",
   "metadata": {},
   "source": [
    "## MovieLens rating dataset\n",
    "\n",
    "Let's get the MovieLens dataset. I will be using their smaller subset of 100k ratings. \n",
    "\n",
    "Download the archive containing their dataset release from \n",
    "https://grouplens.org/datasets/movielens/\n",
    "\n",
    "For more details (contents and structure of archive), you can read the README at \n",
    "http://files.grouplens.org/datasets/movielens/ml-latest-README.html\n",
    "\n",
    "General information can be obtained from their website description located at \n",
    "http://grouplens.org/datasets/movielens/.\n",
    "\n",
    "For this challenge problem I will be looking at the ratings data specifically.\n",
    "\n",
    "However, additional data is available (i.e. movie data and user made tags for movies) which could be used to improve the ability of the recommender system."
   ]
  },
  {
   "cell_type": "markdown",
   "metadata": {},
   "source": [
    "## Exploratary Analysis and Data Preparation"
   ]
  },
  {
   "cell_type": "code",
   "execution_count": 1,
   "metadata": {},
   "outputs": [],
   "source": [
    "import numpy as np\n",
    "import pandas as pd\n",
    "import math\n",
    "import scipy.sparse as sp\n",
    "import scipy.linalg as la\n",
    "from collections import *\n",
    "import matplotlib.pyplot as plt\n",
    "import warnings\n",
    "warnings.filterwarnings('ignore')\n",
    "%matplotlib inline"
   ]
  },
  {
   "cell_type": "code",
   "execution_count": 22,
   "metadata": {},
   "outputs": [
    {
     "data": {
      "text/html": [
       "<div>\n",
       "<style scoped>\n",
       "    .dataframe tbody tr th:only-of-type {\n",
       "        vertical-align: middle;\n",
       "    }\n",
       "\n",
       "    .dataframe tbody tr th {\n",
       "        vertical-align: top;\n",
       "    }\n",
       "\n",
       "    .dataframe thead th {\n",
       "        text-align: right;\n",
       "    }\n",
       "</style>\n",
       "<table border=\"1\" class=\"dataframe\">\n",
       "  <thead>\n",
       "    <tr style=\"text-align: right;\">\n",
       "      <th></th>\n",
       "      <th>movieId</th>\n",
       "      <th>title</th>\n",
       "      <th>genres</th>\n",
       "    </tr>\n",
       "  </thead>\n",
       "  <tbody>\n",
       "    <tr>\n",
       "      <th>0</th>\n",
       "      <td>1</td>\n",
       "      <td>Toy Story (1995)</td>\n",
       "      <td>Adventure|Animation|Children|Comedy|Fantasy</td>\n",
       "    </tr>\n",
       "    <tr>\n",
       "      <th>1</th>\n",
       "      <td>2</td>\n",
       "      <td>Jumanji (1995)</td>\n",
       "      <td>Adventure|Children|Fantasy</td>\n",
       "    </tr>\n",
       "    <tr>\n",
       "      <th>2</th>\n",
       "      <td>3</td>\n",
       "      <td>Grumpier Old Men (1995)</td>\n",
       "      <td>Comedy|Romance</td>\n",
       "    </tr>\n",
       "    <tr>\n",
       "      <th>3</th>\n",
       "      <td>4</td>\n",
       "      <td>Waiting to Exhale (1995)</td>\n",
       "      <td>Comedy|Drama|Romance</td>\n",
       "    </tr>\n",
       "    <tr>\n",
       "      <th>4</th>\n",
       "      <td>5</td>\n",
       "      <td>Father of the Bride Part II (1995)</td>\n",
       "      <td>Comedy</td>\n",
       "    </tr>\n",
       "  </tbody>\n",
       "</table>\n",
       "</div>"
      ],
      "text/plain": [
       "   movieId                               title  \\\n",
       "0        1                    Toy Story (1995)   \n",
       "1        2                      Jumanji (1995)   \n",
       "2        3             Grumpier Old Men (1995)   \n",
       "3        4            Waiting to Exhale (1995)   \n",
       "4        5  Father of the Bride Part II (1995)   \n",
       "\n",
       "                                        genres  \n",
       "0  Adventure|Animation|Children|Comedy|Fantasy  \n",
       "1                   Adventure|Children|Fantasy  \n",
       "2                               Comedy|Romance  \n",
       "3                         Comedy|Drama|Romance  \n",
       "4                                       Comedy  "
      ]
     },
     "execution_count": 22,
     "metadata": {},
     "output_type": "execute_result"
    }
   ],
   "source": [
    "# read the csv file  \n",
    "movies = pd.read_csv('/home/pranav/Desktop/ml-latest-small/movies.csv')\n",
    "movies.head()"
   ]
  },
  {
   "cell_type": "code",
   "execution_count": 3,
   "metadata": {},
   "outputs": [
    {
     "data": {
      "text/plain": [
       "Drama                   1170\n",
       "Comedy                   809\n",
       "Comedy|Drama             425\n",
       "Documentary              365\n",
       "Drama|Romance            356\n",
       "Comedy|Romance           341\n",
       "Comedy|Drama|Romance     264\n",
       "Horror                   183\n",
       "Drama|Thriller           172\n",
       "Crime|Drama              135\n",
       "Crime|Drama|Thriller     116\n",
       "Horror|Thriller          112\n",
       "Drama|War                107\n",
       "Comedy|Crime              77\n",
       "Thriller                  74\n",
       "Name: genres, dtype: int64"
      ]
     },
     "execution_count": 3,
     "metadata": {},
     "output_type": "execute_result"
    }
   ],
   "source": [
    "# counting the top movies genres\n",
    "movies.genres.value_counts()[:15]"
   ]
  },
  {
   "cell_type": "code",
   "execution_count": 21,
   "metadata": {},
   "outputs": [
    {
     "data": {
      "text/html": [
       "<div>\n",
       "<style scoped>\n",
       "    .dataframe tbody tr th:only-of-type {\n",
       "        vertical-align: middle;\n",
       "    }\n",
       "\n",
       "    .dataframe tbody tr th {\n",
       "        vertical-align: top;\n",
       "    }\n",
       "\n",
       "    .dataframe thead th {\n",
       "        text-align: right;\n",
       "    }\n",
       "</style>\n",
       "<table border=\"1\" class=\"dataframe\">\n",
       "  <thead>\n",
       "    <tr style=\"text-align: right;\">\n",
       "      <th></th>\n",
       "      <th>userId</th>\n",
       "      <th>movieId</th>\n",
       "      <th>rating</th>\n",
       "      <th>timestamp</th>\n",
       "    </tr>\n",
       "  </thead>\n",
       "  <tbody>\n",
       "    <tr>\n",
       "      <th>0</th>\n",
       "      <td>1</td>\n",
       "      <td>31</td>\n",
       "      <td>2.5</td>\n",
       "      <td>1260759144</td>\n",
       "    </tr>\n",
       "    <tr>\n",
       "      <th>1</th>\n",
       "      <td>1</td>\n",
       "      <td>1029</td>\n",
       "      <td>3.0</td>\n",
       "      <td>1260759179</td>\n",
       "    </tr>\n",
       "    <tr>\n",
       "      <th>2</th>\n",
       "      <td>1</td>\n",
       "      <td>1061</td>\n",
       "      <td>3.0</td>\n",
       "      <td>1260759182</td>\n",
       "    </tr>\n",
       "    <tr>\n",
       "      <th>3</th>\n",
       "      <td>1</td>\n",
       "      <td>1129</td>\n",
       "      <td>2.0</td>\n",
       "      <td>1260759185</td>\n",
       "    </tr>\n",
       "    <tr>\n",
       "      <th>4</th>\n",
       "      <td>1</td>\n",
       "      <td>1172</td>\n",
       "      <td>4.0</td>\n",
       "      <td>1260759205</td>\n",
       "    </tr>\n",
       "  </tbody>\n",
       "</table>\n",
       "</div>"
      ],
      "text/plain": [
       "   userId  movieId  rating   timestamp\n",
       "0       1       31     2.5  1260759144\n",
       "1       1     1029     3.0  1260759179\n",
       "2       1     1061     3.0  1260759182\n",
       "3       1     1129     2.0  1260759185\n",
       "4       1     1172     4.0  1260759205"
      ]
     },
     "execution_count": 21,
     "metadata": {},
     "output_type": "execute_result"
    }
   ],
   "source": [
    "ratings = pd.read_csv(\"/home/pranav/Desktop/ml-latest-small/ratings.csv\")\n",
    "ratings.head()"
   ]
  },
  {
   "cell_type": "code",
   "execution_count": 5,
   "metadata": {},
   "outputs": [
    {
     "data": {
      "text/html": [
       "<div>\n",
       "<style scoped>\n",
       "    .dataframe tbody tr th:only-of-type {\n",
       "        vertical-align: middle;\n",
       "    }\n",
       "\n",
       "    .dataframe tbody tr th {\n",
       "        vertical-align: top;\n",
       "    }\n",
       "\n",
       "    .dataframe thead th {\n",
       "        text-align: right;\n",
       "    }\n",
       "</style>\n",
       "<table border=\"1\" class=\"dataframe\">\n",
       "  <thead>\n",
       "    <tr style=\"text-align: right;\">\n",
       "      <th></th>\n",
       "      <th>userId</th>\n",
       "      <th>rating</th>\n",
       "    </tr>\n",
       "  </thead>\n",
       "  <tbody>\n",
       "    <tr>\n",
       "      <th>count</th>\n",
       "      <td>100004.000000</td>\n",
       "      <td>100004.000000</td>\n",
       "    </tr>\n",
       "    <tr>\n",
       "      <th>mean</th>\n",
       "      <td>347.011310</td>\n",
       "      <td>3.543608</td>\n",
       "    </tr>\n",
       "    <tr>\n",
       "      <th>std</th>\n",
       "      <td>195.163838</td>\n",
       "      <td>1.058064</td>\n",
       "    </tr>\n",
       "    <tr>\n",
       "      <th>min</th>\n",
       "      <td>1.000000</td>\n",
       "      <td>0.500000</td>\n",
       "    </tr>\n",
       "    <tr>\n",
       "      <th>25%</th>\n",
       "      <td>182.000000</td>\n",
       "      <td>3.000000</td>\n",
       "    </tr>\n",
       "    <tr>\n",
       "      <th>50%</th>\n",
       "      <td>367.000000</td>\n",
       "      <td>4.000000</td>\n",
       "    </tr>\n",
       "    <tr>\n",
       "      <th>75%</th>\n",
       "      <td>520.000000</td>\n",
       "      <td>4.000000</td>\n",
       "    </tr>\n",
       "    <tr>\n",
       "      <th>max</th>\n",
       "      <td>671.000000</td>\n",
       "      <td>5.000000</td>\n",
       "    </tr>\n",
       "  </tbody>\n",
       "</table>\n",
       "</div>"
      ],
      "text/plain": [
       "              userId         rating\n",
       "count  100004.000000  100004.000000\n",
       "mean      347.011310       3.543608\n",
       "std       195.163838       1.058064\n",
       "min         1.000000       0.500000\n",
       "25%       182.000000       3.000000\n",
       "50%       367.000000       4.000000\n",
       "75%       520.000000       4.000000\n",
       "max       671.000000       5.000000"
      ]
     },
     "execution_count": 5,
     "metadata": {},
     "output_type": "execute_result"
    }
   ],
   "source": [
    "# looking at general characteristics of the userId and rating\n",
    "ratings[['userId','rating']].describe()"
   ]
  },
  {
   "cell_type": "code",
   "execution_count": 6,
   "metadata": {},
   "outputs": [],
   "source": [
    "X = np.asarray(sp.coo_matrix((ratings[\"rating\"], (ratings[\"userId\"]-1, ratings[\"movieId\"]-1))).todense())\n",
    "\n",
    "# keeping movies with only 5 or more ratings\n",
    "X_valid = (X!=0).sum(axis=0) >= 5\n",
    "X = X[:,X_valid]\n",
    "\n",
    "rows,cols = X.shape[0],X.shape[1]\n",
    "\n",
    "# User mean ratings and movie mean ratings\n",
    "means_user = np.array([X[m,X[m,:]!=0].mean() for m in range(rows)])\n",
    "means_movie = np.array([X[X[:,n]!=0,n].mean() for n in range(cols)])"
   ]
  },
  {
   "cell_type": "code",
   "execution_count": 7,
   "metadata": {},
   "outputs": [
    {
     "data": {
      "text/plain": [
       "Text(0,0.5,'Count')"
      ]
     },
     "execution_count": 7,
     "metadata": {},
     "output_type": "execute_result"
    },
    {
     "data": {
      "image/png": "[encoded data removed]",
      "text/plain": [
       "<Figure size 432x288 with 1 Axes>"
      ]
     },
     "metadata": {},
     "output_type": "display_data"
    }
   ],
   "source": [
    "plt.hist(means_user, bins=20)\n",
    "plt.xlabel(\"Mean User Rating\")\n",
    "plt.ylabel(\"Count\")"
   ]
  },
  {
   "cell_type": "code",
   "execution_count": 8,
   "metadata": {},
   "outputs": [
    {
     "data": {
      "text/plain": [
       "Text(0,0.5,'Count')"
      ]
     },
     "execution_count": 8,
     "metadata": {},
     "output_type": "execute_result"
    },
    {
     "data": {
      "image/png": "[encoded data removed]",
      "text/plain": [
       "<Figure size 432x288 with 1 Axes>"
      ]
     },
     "metadata": {},
     "output_type": "display_data"
    }
   ],
   "source": [
    "plt.hist(means_movie, bins=20)\n",
    "plt.xlabel(\"Mean Movie Rating\")\n",
    "plt.ylabel(\"Count\")"
   ]
  },
  {
   "cell_type": "code",
   "execution_count": 9,
   "metadata": {},
   "outputs": [
    {
     "data": {
      "text/plain": [
       "Text(0,0.5,'Number of Users')"
      ]
     },
     "execution_count": 9,
     "metadata": {},
     "output_type": "execute_result"
    },
    {
     "data": {
      "image/png": "[encoded data removed]",
      "text/plain": [
       "<Figure size 432x288 with 1 Axes>"
      ]
     },
     "metadata": {},
     "output_type": "display_data"
    }
   ],
   "source": [
    "num_of_user_rev = (X!=0).astype(float).sum(axis=1)\n",
    "plt.hist(num_of_user_rev,bins=100)\n",
    "plt.xlim([0,600])\n",
    "plt.xlabel(\"Number of Reviews\")\n",
    "plt.ylabel(\"Number of Users\")"
   ]
  },
  {
   "cell_type": "code",
   "execution_count": 10,
   "metadata": {},
   "outputs": [],
   "source": [
    "def preparation(ratings, movies, Permutation_array):\n",
    "    \"\"\" \n",
    "        Parameters: \n",
    "            ratings (dataframe) : dataframe of MovieLens ratings\n",
    "            movies (dataframe) : dataframe of MovieLens movies\n",
    "            Permutation_array (numpy 1D array) : random permutation vector\n",
    "            \n",
    "        Returns: \n",
    "            (Train_mat, Test_mat,Valid_mat, movie_names)  : training, validation and testing splits of the ratings \n",
    "                                            matrix (all 3 numpy 2D arrays), and a list of movie names )\n",
    "                                         \n",
    "                                         \n",
    "    \"\"\"\n",
    "    u_l=len(ratings['userId'].unique())\n",
    "    m_l=len(ratings['movieId'].unique())\n",
    "   \n",
    "    indices=int(np.floor(7*len(Permutation_array))/10)\n",
    "    remain = int(np.floor((len(Permutation_array) - indices)/3))\n",
    "    \n",
    "    ## Randomly splitting into training validation and testing\n",
    "    \n",
    "    Train_val=ratings.iloc[Permutation_array[0:indices],:]\n",
    "    Valid_val=ratings.iloc[Permutation_array[indices:indices + remain],:]\n",
    "    Test_val=ratings.iloc[Permutation_array[indices + remain:],:]\n",
    "    \n",
    "    ## Creating empty training,validation and testing matrices\n",
    "    \n",
    "    Train_mat=np.zeros((u_l,m_l))\n",
    "    Test_mat=np.zeros((u_l,m_l))\n",
    "    Valid_mat=np.zeros((u_l,m_l))\n",
    "\n",
    "    val_mat=range(1,m_l+1)\n",
    "   \n",
    "    ## creating a mapping dictionary of movieId with moviename\n",
    "    \n",
    "    un_mov=sorted(ratings['movieId'].unique())\n",
    "    map_dict= dict(zip(un_mov,[x for x in val_mat]))\n",
    "    map_dict=OrderedDict(map_dict)\n",
    "    \n",
    "    ## Storing values into train,validation and test matrices\n",
    "    \n",
    "    for value in Train_val.itertuples():\n",
    "        Train_mat[value[1]-1,map_dict[value[2]]-1]=value[3]\n",
    "     \n",
    "    for value in Test_val.itertuples():\n",
    "        Test_mat[value[1]-1,map_dict[value[2]]-1]=value[3]\n",
    "        \n",
    "    for value in Valid_val.itertuples():\n",
    "        Valid_mat[value[1]-1,map_dict[value[2]]-1]=value[3]\n",
    "   \n",
    "    movies=movies.set_index(movies['movieId'])\n",
    "    movie_name=[movies['title'][movie] for movie in un_mov]\n",
    "    \n",
    "    return (Train_mat,Test_mat,Valid_mat,movie_name)"
   ]
  },
  {
   "cell_type": "markdown",
   "metadata": {},
   "source": [
    "## Test the above function"
   ]
  },
  {
   "cell_type": "code",
   "execution_count": 11,
   "metadata": {},
   "outputs": [
    {
     "name": "stdout",
     "output_type": "stream",
     "text": [
      "Training matrix shape: (671, 9066)\n",
      "Validation matrix shape: (671, 9066)\n",
      "Testing matrix shape: (671, 9066)\n",
      "\n",
      "movie names: ['Toy Story (1995)', 'Jumanji (1995)', 'Grumpier Old Men (1995)', 'Waiting to Exhale (1995)', 'Father of the Bride Part II (1995)', 'Heat (1995)', 'Sabrina (1995)', 'Tom and Huck (1995)', 'Sudden Death (1995)', 'GoldenEye (1995)']\n"
     ]
    }
   ],
   "source": [
    "Train_mat, Test_mat,Valid_mat, movie_names = preparation(ratings, movies, np.random.permutation(len(ratings)))\n",
    "print('Training matrix shape: {}'.format(Train_mat.shape))\n",
    "print('Validation matrix shape: {}'.format(Valid_mat.shape))\n",
    "print('Testing matrix shape: {}'.format(Test_mat.shape))\n",
    "print()\n",
    "print('movie names: {}'.format(movie_names[:10]))"
   ]
  },
  {
   "cell_type": "markdown",
   "metadata": {},
   "source": [
    "## Alternating Least Squares for Collaborative Filtering\n",
    "\n",
    "Now we build the collaborative filtering recommender system. We will use a method known as alternating least squares. We will alternate between optimizing over $U$ and $V$ by holding the other constant. I used the alternating least squares approach since by using this approach, we get exactly a weighted least squares problem, which has a well-known solution. Please look at this link to see the ALS formulae and learn more  http://stanford.edu/~rezab/classes/cme323/S15/notes/lec14.pdf\n",
    "\n",
    "W-  indicator matrix where $W_{ij} = 1$ if there is a rating in $X_{ij}$\n"
   ]
  },
  {
   "cell_type": "code",
   "execution_count": 12,
   "metadata": {},
   "outputs": [],
   "source": [
    "def error(X, U, V):\n",
    "    \"\"\" mean error of the observed ratings in X and their estimated values. \n",
    "    \n",
    "        Parameters: \n",
    "            X (numpy 2D array) : a ratings matrix\n",
    "            U (numpy 2D array) : a matrix of features for each user\n",
    "            V (numpy 2D array) : a matrix of features for each movie\n",
    "            \n",
    "        Returns: \n",
    "            (float) : the mean squared error of the observed ratings with their estimated values\n",
    "        \"\"\"\n",
    "    W=(X>0).astype(float)\n",
    "    \n",
    "    pred=np.dot(U,V.T)\n",
    "    J=np.multiply(((X-pred)**2),W)\n",
    "    error=J.sum()/W.sum()\n",
    "    \n",
    "    return error"
   ]
  },
  {
   "cell_type": "code",
   "execution_count": 13,
   "metadata": {},
   "outputs": [],
   "source": [
    "def training(Train_mat, Valid_mat, k, U, V, num_iters, lam):\n",
    "    \"\"\"  \n",
    "        Parameters: \n",
    "            Train_mat (numpy 2D array) : the training ratings matrix\n",
    "            Test_mat (numpy 2D array) : the testing ratings matrix\n",
    "            k (int) : the number of features use in the  model\n",
    "            U (numpy 2D array) : initial matrix of features for each user\n",
    "            V (numpy 2D array) : initial matrix of features for each movie\n",
    "            num_iters (int) : number of iterations to run\n",
    "            lam (int) : regularization parameter\n",
    "\n",
    "        Returns:\n",
    "            (U,V,error_values) : A pair of the resulting learned matrix factorization and error values\n",
    "    \"\"\"\n",
    "   \n",
    "    reg = lam* sp.eye(k)\n",
    "    \n",
    "    W = (Train_mat > 0).astype(int)\n",
    "    \n",
    "    for epoch in range(num_iters):\n",
    "        for u,Wu in enumerate(W.T):\n",
    "            \n",
    "            term1 = U.T.dot(sp.diags(Wu).dot(U)) + reg\n",
    "            term2 = U.T.dot(Train_mat[:,u])\n",
    "            V[u,:] = la.solve(term1,term2) \n",
    "            \n",
    "        for v,Wv in enumerate(W):\n",
    "            \n",
    "            term1 = V.T.dot(sp.diags(Wv).dot(V)) + reg\n",
    "            term2 = V.T.dot(Train_mat[v,:])\n",
    "            U[v,:] = la.solve(term1,term2) \n",
    "            \n",
    "        \n",
    "    error_on_valid = round(error(Valid_mat, U, V),4)\n",
    "            \n",
    "    return (U,V,error_on_valid)\n",
    "            "
   ]
  },
  {
   "cell_type": "markdown",
   "metadata": {},
   "source": [
    "# Grid Search to find best hyperparameters\n",
    "\n",
    "Grid search is a technique to perform hyperparameter optimization, which is simply an exhaustive search through a manually pre-defined subset of the hyperparameter space of a learning algorithm. A grid search algorithm must be guided by some performance metric, in this case evaluation on a held-out validation set."
   ]
  },
  {
   "cell_type": "code",
   "execution_count": 14,
   "metadata": {},
   "outputs": [],
   "source": [
    "def gridsearch(k_values,lam_values,epochs):\n",
    "    \"\"\"  \n",
    "        Parameters: \n",
    "            k_values(list) : list of k values to try\n",
    "            lam_values(list) : list of lam_values to try\n",
    "            epochs (int) : number of iterations to run\n",
    "\n",
    "        Returns:\n",
    "            (error_val,lam_best,k_best) : error value on test validation set, best lam and k values\n",
    "    \"\"\"\n",
    "    max_val=np.inf\n",
    "    k_best = 0\n",
    "    lam_best = 0\n",
    "\n",
    "    for k in k_values:\n",
    "    \n",
    "        U = np.random.rand(Train_mat.shape[0],k)\n",
    "        V = np.random.rand(Train_mat.shape[1],k)\n",
    "    \n",
    "        for lam in lam_values:\n",
    "            \n",
    "            U,V,error_val = training(Train_mat, Valid_mat, k, U, V, num_iters=epochs, lam=lam)\n",
    "            \n",
    "            print('Error value on validation set: {}, lamba value: {}, k value: {}'.format(error_val,lam,k))\n",
    "            \n",
    "            if error_val < max_val:\n",
    "                max_val = error_val\n",
    "                lam_best = lam\n",
    "                k_best = k\n",
    "\n",
    "    return (max_val,lam_best,k_best,U,V)\n",
    "    \n",
    "        "
   ]
  },
  {
   "cell_type": "markdown",
   "metadata": {},
   "source": [
    "## Building the recommender system with best parameters"
   ]
  },
  {
   "cell_type": "code",
   "execution_count": 15,
   "metadata": {},
   "outputs": [
    {
     "name": "stdout",
     "output_type": "stream",
     "text": [
      "Error value on validation set: 2.0341, lamba value: 0.1, k value: 5\n",
      "Error value on validation set: 1.9332, lamba value: 1, k value: 5\n",
      "Error value on validation set: 1.6663, lamba value: 10, k value: 5\n",
      "Error value on validation set: 2.3265, lamba value: 0.1, k value: 10\n",
      "Error value on validation set: 2.1251, lamba value: 1, k value: 10\n",
      "Error value on validation set: 1.6982, lamba value: 10, k value: 10\n",
      "Error value on validation set: 2.5593, lamba value: 0.1, k value: 15\n",
      "Error value on validation set: 2.291, lamba value: 1, k value: 15\n",
      "Error value on validation set: 1.7133, lamba value: 10, k value: 15\n",
      "\n",
      "The best lamba: 10\n",
      "The best k: 5\n",
      "The error on validation set with above parameters is: 1.6663\n"
     ]
    }
   ],
   "source": [
    "epochs = 25\n",
    "k_mat = [5,10,15]\n",
    "lam_mat = [0.1,1,10]\n",
    "error_val,lam_best,k_best,U,V = gridsearch(k_mat,lam_mat,epochs)\n",
    "print()\n",
    "print('The best lamba: {}'.format(lam_best))\n",
    "print('The best k: {}'.format(k_best))\n",
    "print('The error on validation set with above parameters is: {}'.format(error_val))"
   ]
  },
  {
   "cell_type": "markdown",
   "metadata": {},
   "source": [
    "The Mean Square Error will continuously decrease on the training set as k increases as the original matrix is being approximated by a matrix of a higher rank. On the validation set, however, the error will  start increasing because the training set is overfitting to the  user tastes. "
   ]
  },
  {
   "cell_type": "markdown",
   "metadata": {},
   "source": [
    "## Making Recommendations and Computing error on Test set\n",
    "\n",
    "Finally, we need to make recommendations given a matrix factorization. We can do this by recommending the movie with the highest value in the estimated ratings matrix.\n",
    "\n",
    "For each user the movie with the highest predicted rating for that user, that the user hasn't seen before is recommended.\n",
    "\n",
    "The result is returned in a list such that the i th element in this list is the recommendation for the user corresponding to the i th row of the ratings matrix.\n",
    "\n"
   ]
  },
  {
   "cell_type": "code",
   "execution_count": 16,
   "metadata": {},
   "outputs": [],
   "source": [
    "def recommendations(X, U, V, Movie_names):\n",
    "    \"\"\" \n",
    "        Parameters: \n",
    "            X (numpy 2D array) : the ratings matrix\n",
    "            U (numpy 2D array) : a learned matrix of features for each user\n",
    "            V (numpy 2D array) : a learned matrix of features for each movie\n",
    "            Movie_names : a list of movie names corresponding to the columns of the ratings matrix\n",
    "            \n",
    "        Returns\n",
    "             recommended_movies,error_on_test(list) : a list of movie names recommended for each user and error rate\n",
    "    \"\"\"\n",
    "    error_on_test = error(Test_mat,U,V)\n",
    "    Xpred=np.dot(U,V.T)\n",
    "    recomend_matrix=Xpred-X\n",
    "    movie_indices=recomend_matrix.argmax(axis=1)\n",
    "    recommended_movies=[Movie_names[i] for i in movie_indices]\n",
    "    \n",
    "    return recommended_movies,error_on_test"
   ]
  },
  {
   "cell_type": "markdown",
   "metadata": {},
   "source": [
    "## Testing the Recommender System\n"
   ]
  },
  {
   "cell_type": "code",
   "execution_count": 18,
   "metadata": {},
   "outputs": [
    {
     "name": "stdout",
     "output_type": "stream",
     "text": [
      "Mean error on test set: 1.6734\n",
      "\n",
      "Movie recommendations: ['Shawshank Redemption, The (1994)', 'Shawshank Redemption, The (1994)', 'Shawshank Redemption, The (1994)', 'Godfather, The (1972)', 'Shawshank Redemption, The (1994)', 'Shawshank Redemption, The (1994)', 'Shawshank Redemption, The (1994)', 'Shawshank Redemption, The (1994)', \"Schindler's List (1993)\", 'Shawshank Redemption, The (1994)', 'Shawshank Redemption, The (1994)', 'Godfather: Part II, The (1974)', 'Shawshank Redemption, The (1994)', 'Shawshank Redemption, The (1994)', 'Star Wars: Episode V - The Empire Strikes Back (1980)']\n"
     ]
    }
   ],
   "source": [
    "movie_recommendations,error_test = recommendations(Test_mat, U, V, movie_names)\n",
    "print('Mean error on test set: {0:.4f}'.format(error_test))\n",
    "print()\n",
    "print('Movie recommendations: {}'.format(movie_recommendations[:15]))"
   ]
  },
  {
   "cell_type": "markdown",
   "metadata": {},
   "source": [
    "The recommended movies are all fairly popular and well known"
   ]
  },
  {
   "cell_type": "markdown",
   "metadata": {},
   "source": [
    "## Conclusion and Future work\n",
    "\n",
    "In this jupyter notebook the basics of recommender systems are covered and was demonstrated on the MovieLens dataset. The performance of the model can be improved by following the following procedures:\n",
    "\n",
    "(1) Use additional data (i.e. movie data and user made tags for movies).\n",
    "\n",
    "(2) Train for more number of epochs. The procedure is computationally expensive.\n",
    "\n",
    "(3) Use two different regularizations one for $U$ matrix and one for $V$ matrix\n",
    "\n",
    "(4) Try different variations of matrix factorization such as Fast ALS, Sparse subspace Embedding et cetera\n",
    "\n",
    "(5) Use Apache spark. Since I used 100k dataset I did not use spark. For larger datasets Apache spark would have been a better option"
   ]
  },
  {
   "cell_type": "markdown",
   "metadata": {},
   "source": [
    "## References\n",
    "\n",
    "http://stanford.edu/~rezab/classes/cme323/S15/notes/lec14.pdf\n",
    "\n",
    "https://web.stanford.edu/~montanar/OTHER/TALKS/necsys2012.pdf\n",
    "\n",
    "http://vikas.sindhwani.org/recommender.pdf\n",
    "\n",
    "http://files.grouplens.org/papers/FnT%20CF%20Recsys%20Survey.pdf\n",
    "\n",
    "http://www.datasciencecourse.org/notes/recommender/\n",
    "\n",
    "https://www.cs.utexas.edu/~ml/papers/cbcf-aaai-02.pdf\n"
   ]
  },
  {
   "cell_type": "code",
   "execution_count": null,
   "metadata": {},
   "outputs": [],
   "source": []
  }
 ],
 "metadata": {
  "kernelspec": {
   "display_name": "Python 3",
   "language": "python",
   "name": "python3"
  },
  "language_info": {
   "codemirror_mode": {
    "name": "ipython",
    "version": 3
   },
   "file_extension": ".py",
   "mimetype": "text/x-python",
   "name": "python",
   "nbconvert_exporter": "python",
   "pygments_lexer": "ipython3",
   "version": "3.6.5"
  }
 },
 "nbformat": 4,
 "nbformat_minor": 2
}
